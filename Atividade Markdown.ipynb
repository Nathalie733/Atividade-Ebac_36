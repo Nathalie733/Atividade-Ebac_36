{
 "cells": [
  {
   "cell_type": "markdown",
   "id": "25489781",
   "metadata": {},
   "source": [
    "## <font color='blue'>Fórmula de Bhaskara"
   ]
  },
  {
   "cell_type": "markdown",
   "id": "fe3826fe",
   "metadata": {},
   "source": [
    "A solução para uma função de segundo grau depende das suas raízes (valores de x). Como já vimos, os coeficientes precisam ser números reais e o angular diferente de zero. Sendo assim, temos a seguinte fórmula de Bhaskara:"
   ]
  },
  {
   "cell_type": "markdown",
   "id": "7607d8d1",
   "metadata": {},
   "source": [
    "# $$ x=\\\\\\frac{-b±\\\\\\sqrt {b^2-4.a.c}}{2.a}$$"
   ]
  },
  {
   "cell_type": "markdown",
   "id": "3b04fb43",
   "metadata": {},
   "source": [
    "#### $$Fórmula \\\\ de \\\\ Bhaskara.$$"
   ]
  },
  {
   "cell_type": "markdown",
   "id": "afacc60b",
   "metadata": {},
   "source": [
    "Para melhor compreensão o seu cálculo é dividido em duas partes: discriminante da equação e operações para determinar as raízes."
   ]
  },
  {
   "cell_type": "markdown",
   "id": "f6cd9b83",
   "metadata": {},
   "source": [
    "**Discriminante**"
   ]
  },
  {
   "cell_type": "markdown",
   "id": "6f2e64bd",
   "metadata": {},
   "source": [
    "A figura dentro da raiz na fórmula de Bhaskara é nomeada de discriminante. Seu símbolo é a letra grega delta e apresenta a determinada fórmula:"
   ]
  },
  {
   "cell_type": "markdown",
   "id": "bd99c834",
   "metadata": {},
   "source": [
    "# $$Δ = b^2 - 4.a.c$$"
   ]
  },
  {
   "cell_type": "markdown",
   "id": "cc5615f5",
   "metadata": {},
   "source": [
    "#### $$Fórmula \\\\ da \\\\ discriminante.$$"
   ]
  },
  {
   "cell_type": "markdown",
   "id": "4fb9b77d",
   "metadata": {},
   "source": [
    "- Se o delta for maior que zero, a equação terá dois valores reais e distintos. \\n\",\n",
    "- Se o delta for igual a zero, a equação terá somente um valor real ou dois resultados iguais. \\n\",\n",
    "- Se o delta for menor que zero, a equação não possuirá valores reais. \""
   ]
  },
  {
   "cell_type": "code",
   "execution_count": null,
   "id": "cd8f41c4",
   "metadata": {},
   "outputs": [],
   "source": []
  }
 ],
 "metadata": {
  "kernelspec": {
   "display_name": "Python 3 (ipykernel)",
   "language": "python",
   "name": "python3"
  },
  "language_info": {
   "codemirror_mode": {
    "name": "ipython",
    "version": 3
   },
   "file_extension": ".py",
   "mimetype": "text/x-python",
   "name": "python",
   "nbconvert_exporter": "python",
   "pygments_lexer": "ipython3",
   "version": "3.11.5"
  }
 },
 "nbformat": 4,
 "nbformat_minor": 5
}
